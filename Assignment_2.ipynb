{
 "cells": [
  {
   "cell_type": "markdown",
   "metadata": {},
   "source": [
    "    1. Write a function that takes a positive integer num and calculates how many dots exist in a pentagonal shape around the center dot on the Nth iteration.\n",
    "\n",
    "    In the image below you can see the first iteration is only a single dot. On the second, there are 6 dots. On the third, there are 16 dots, and on the fourth there are 31 dots.\n",
    "\n",
    "![Alt text](download.png)\n",
    "\n",
    "    Return the number of dots that exist in the whole pentagon on the Nth iteration.\n",
    "\n",
    "    Examples\n",
    "\n",
    "    pentagonal(1) ➞ 1\n",
    "\n",
    "    pentagonal(2) ➞ 6\n",
    "\n",
    "    pentagonal(3) ➞ 16\n",
    "\n",
    "    pentagonal(8) ➞ 141\n"
   ]
  },
  {
   "cell_type": "code",
   "execution_count": 1,
   "metadata": {},
   "outputs": [
    {
     "name": "stdout",
     "output_type": "stream",
     "text": [
      "1\n",
      "6\n",
      "16\n",
      "141\n"
     ]
    }
   ],
   "source": [
    "def pentagonal(num):\n",
    "    op = 1\n",
    "    if num >=1:\n",
    "        for ele in range(num):\n",
    "            op = op + (5*ele)\n",
    "        print(op)\n",
    "    else:\n",
    "        print(\"Enter Positive Number\")\n",
    "        \n",
    "pentagonal(1) \n",
    "pentagonal(2)\n",
    "pentagonal(3)\n",
    "pentagonal(8)"
   ]
  },
  {
   "cell_type": "markdown",
   "metadata": {},
   "source": [
    "    2.  Make a function that encrypts a given input with these steps:\n",
    "\n",
    "    Input: \"apple\"\n",
    "\n",
    "    Step 1: Reverse the input: \"elppa\"\n",
    "\n",
    "    Step 2: Replace all vowels using the following chart:\n",
    "\n",
    "    a => 0\n",
    "    e => 1\n",
    "    i => 2\n",
    "    o => 2\n",
    "    u => 3\n",
    "\n",
    "    # \"1lpp0\"\n",
    "\n",
    "    Step 3: Add \"aca\" to the end of the word: \"1lpp0aca\"\n",
    "\n",
    "    Output: \"1lpp0aca\"\n",
    "\n",
    "    Examples\n",
    "\n",
    "    encrypt(\"banana\") ➞ \"0n0n0baca\"\n",
    "\n",
    "    encrypt(\"karaca\") ➞ \"0c0r0kaca\"\n",
    "\n",
    "    encrypt(\"burak\") ➞ \"k0r3baca\"\n",
    "\n",
    "    encrypt(\"alpaca\") ➞ \"0c0pl0aca\"\n"
   ]
  },
  {
   "cell_type": "code",
   "execution_count": 2,
   "metadata": {},
   "outputs": [
    {
     "name": "stdout",
     "output_type": "stream",
     "text": [
      "0n0n0baca\n",
      "0c0r0kaca\n",
      "k0r2baca\n",
      "0c0pl0aca\n"
     ]
    }
   ],
   "source": [
    "def encrypt(param):\n",
    "    vowels = {'a':'0','e':'1','i':'2','o':'2','u':'2'}\n",
    "    op = ''\n",
    "    for i in param[::-1]:\n",
    "        if i in vowels.keys():\n",
    "            op += vowels[i]\n",
    "        else:\n",
    "            op += i\n",
    "    op += \"aca\"\n",
    "    print(op)\n",
    "        \n",
    "encrypt(\"banana\")\n",
    "encrypt(\"karaca\")\n",
    "encrypt(\"burak\")\n",
    "encrypt(\"alpaca\") "
   ]
  },
  {
   "cell_type": "markdown",
   "metadata": {},
   "source": [
    "    3. Given the month and year as numbers, return whether that month contains a Friday 13th.(i.e You can check Python's datetime module)\n",
    "\n",
    "    Examples\n",
    "\n",
    "    has_friday_13(3, 2020) ➞ True\n",
    "\n",
    "    has_friday_13(10, 2017) ➞ True\n",
    "\n",
    "    has_friday_13(1, 1985) ➞ False\n"
   ]
  },
  {
   "cell_type": "code",
   "execution_count": 3,
   "metadata": {},
   "outputs": [
    {
     "name": "stdout",
     "output_type": "stream",
     "text": [
      "True\n",
      "True\n",
      "False\n"
     ]
    }
   ],
   "source": [
    "import datetime\n",
    "def has_friday_13(month,year):\n",
    "    op = False\n",
    "    if datetime.datetime(year,month,13).strftime('%A') == 'Friday':\n",
    "        op = True\n",
    "    print(op)\n",
    "\n",
    "has_friday_13(3, 2020)\n",
    "has_friday_13(10, 2017)\n",
    "has_friday_13(1, 1985)"
   ]
  },
  {
   "cell_type": "markdown",
   "metadata": {},
   "source": [
    "    4. Write a regular expression that will help us count how many bad cookies are produced every day. You must use RegEx negative lookbehind.\n",
    "\n",
    "    Example\n",
    "\n",
    "    lst = [\"bad cookie\", \"good cookie\", \"bad cookie\", \"good cookie\", \"good cookie\"]\n",
    "    pattern = \"yourregularexpressionhere\"\n",
    "\n",
    "    len(re.findall(pattern, \", \".join(lst))) ➞ 2\n"
   ]
  },
  {
   "cell_type": "code",
   "execution_count": 4,
   "metadata": {},
   "outputs": [
    {
     "name": "stdout",
     "output_type": "stream",
     "text": [
      "2\n"
     ]
    }
   ],
   "source": [
    "import re\n",
    "lst = [\"bad cookie\", \"good cookie\", \"bad cookie\", \"good cookie\", \"good cookie\"]\n",
    "pattern = r'(?<!good)\\scookie'\n",
    "op = re.findall(pattern,' '.join(lst))\n",
    "print(len(op))"
   ]
  },
  {
   "cell_type": "markdown",
   "metadata": {},
   "source": [
    "    5. Given a list of words in the singular form, return a set of those words in the plural form if they appear more than once in the list.\n",
    "\n",
    "    Examples\n",
    "\n",
    "    pluralize([\"cow\", \"pig\", \"cow\", \"cow\"]) ➞ { \"cows\", \"pig\" }\n",
    "\n",
    "    pluralize([\"table\", \"table\", \"table\"]) ➞ { \"tables\" }\n",
    "\n",
    "    pluralize([\"chair\", \"pencil\", \"arm\"]) ➞ { \"chair\", \"pencil\", \"arm\" }\n"
   ]
  },
  {
   "cell_type": "code",
   "execution_count": 5,
   "metadata": {},
   "outputs": [
    {
     "name": "stdout",
     "output_type": "stream",
     "text": [
      "{'cows', 'pig'}\n",
      "{'tables'}\n",
      "{'arm', 'chair', 'pencil'}\n"
     ]
    }
   ],
   "source": [
    "def pluralize(lst):\n",
    "    op = set()\n",
    "    for i in set(lst):\n",
    "        if lst.count(i) > 1:\n",
    "            op.add(i+'s')\n",
    "        else:\n",
    "            op.add(i)\n",
    "    print(op)\n",
    "    \n",
    "pluralize([\"cow\", \"pig\", \"cow\", \"cow\"])\n",
    "pluralize([\"table\", \"table\", \"table\"])\n",
    "pluralize([\"chair\", \"pencil\", \"arm\"]) "
   ]
  }
 ],
 "metadata": {
  "kernelspec": {
   "display_name": "Python 3.10.7 64-bit",
   "language": "python",
   "name": "python3"
  },
  "language_info": {
   "codemirror_mode": {
    "name": "ipython",
    "version": 3
   },
   "file_extension": ".py",
   "mimetype": "text/x-python",
   "name": "python",
   "nbconvert_exporter": "python",
   "pygments_lexer": "ipython3",
   "version": "3.10.7"
  },
  "orig_nbformat": 4,
  "vscode": {
   "interpreter": {
    "hash": "3196968d684371006099b3d55edeef8ed90365227a30deaef86e5d4aa8519be0"
   }
  }
 },
 "nbformat": 4,
 "nbformat_minor": 2
}
